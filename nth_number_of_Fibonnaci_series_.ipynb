{
  "nbformat": 4,
  "nbformat_minor": 0,
  "metadata": {
    "colab": {
      "name": "nth number of Fibonnaci series .ipynb",
      "provenance": [],
      "authorship_tag": "ABX9TyN1Ao4MP/GdZELI5ZOcRQTM",
      "include_colab_link": true
    },
    "kernelspec": {
      "name": "python3",
      "display_name": "Python 3"
    },
    "language_info": {
      "name": "python"
    }
  },
  "cells": [
    {
      "cell_type": "markdown",
      "metadata": {
        "id": "view-in-github",
        "colab_type": "text"
      },
      "source": [
        "<a href=\"https://colab.research.google.com/github/divy-ch/coding_questions/blob/main/nth_number_of_Fibonnaci_series_.ipynb\" target=\"_parent\"><img src=\"https://colab.research.google.com/assets/colab-badge.svg\" alt=\"Open In Colab\"/></a>"
      ]
    },
    {
      "cell_type": "code",
      "source": [
        "def nth_number_fibo_series(n):\n",
        "  n1=0\n",
        "  n2=1\n",
        "  sum=0\n",
        "  fibo=[]\n",
        "  i=1\n",
        "  while i<=n:\n",
        "    fibo.append(sum)\n",
        "    n1=n2\n",
        "    n2 = sum\n",
        "    sum = n1+n2\n",
        "    i+=1\n",
        "  return fibo[n-1]\n",
        "\n",
        "nth_number_fibo_series(50)#starting from 0"
      ],
      "metadata": {
        "colab": {
          "base_uri": "https://localhost:8080/"
        },
        "id": "Q8rO3Tbdfm7M",
        "outputId": "38db356a-67d9-4bc2-9332-3e4488ccce71"
      },
      "execution_count": 24,
      "outputs": [
        {
          "output_type": "execute_result",
          "data": {
            "text/plain": [
              "7778742049"
            ]
          },
          "metadata": {},
          "execution_count": 24
        }
      ]
    },
    {
      "cell_type": "code",
      "execution_count": null,
      "metadata": {
        "id": "IAasT0rqd7ZA"
      },
      "outputs": [],
      "source": [
        ""
      ]
    },
    {
      "cell_type": "code",
      "source": [
        ""
      ],
      "metadata": {
        "id": "ln197-lieywQ"
      },
      "execution_count": null,
      "outputs": []
    }
  ]
}