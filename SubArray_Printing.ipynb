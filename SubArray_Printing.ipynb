{
  "nbformat": 4,
  "nbformat_minor": 0,
  "metadata": {
    "colab": {
      "name": "SubArray Printing.ipynb",
      "provenance": [],
      "authorship_tag": "ABX9TyOOK3RfyoiaOWZsBKj/Cv+6",
      "include_colab_link": true
    },
    "kernelspec": {
      "name": "python3",
      "display_name": "Python 3"
    },
    "language_info": {
      "name": "python"
    }
  },
  "cells": [
    {
      "cell_type": "markdown",
      "metadata": {
        "id": "view-in-github",
        "colab_type": "text"
      },
      "source": [
        "<a href=\"https://colab.research.google.com/github/divy-ch/coding_questions/blob/main/SubArray_Printing.ipynb\" target=\"_parent\"><img src=\"https://colab.research.google.com/assets/colab-badge.svg\" alt=\"Open In Colab\"/></a>"
      ]
    },
    {
      "cell_type": "markdown",
      "source": [
        "write the code to print all the subarrays possible. Note - print in the similar way as given here.\n",
        "\n",
        "Input:-\n",
        "\n",
        "[1,2,3,4,5]\n",
        "\n",
        "Output:-\n",
        "\n",
        "1\n",
        "\n",
        "12\n",
        "\n",
        "123\n",
        "\n",
        "1234\n",
        "\n",
        "12345\n",
        "\n",
        "2\n",
        "\n",
        "23\n",
        "\n",
        "234\n",
        "\n",
        "2345\n",
        "\n",
        "3\n",
        "\n",
        "34\n",
        "\n",
        "345\n",
        "\n",
        "4\n",
        "\n",
        "45\n",
        "\n",
        "5"
      ],
      "metadata": {
        "id": "gehDkEpCN9aC"
      }
    },
    {
      "cell_type": "code",
      "execution_count": 1,
      "metadata": {
        "colab": {
          "base_uri": "https://localhost:8080/"
        },
        "id": "3kz5i-ULN51e",
        "outputId": "0a0166d2-62e3-468c-bf3c-e9e53b6e8dc0"
      },
      "outputs": [
        {
          "output_type": "stream",
          "name": "stdout",
          "text": [
            "1\n",
            "13\n",
            "134\n",
            "1342\n",
            "3\n",
            "34\n",
            "342\n",
            "4\n",
            "42\n",
            "2\n"
          ]
        }
      ],
      "source": [
        "arr = [1,3,4,2]\n",
        "i=0\n",
        "while i<len(arr):\n",
        "  j=i\n",
        "  while j<len(arr):\n",
        "    k=i\n",
        "    while k<=j:\n",
        "      print(arr[k],end=\"\")\n",
        "      k+=1\n",
        "    print()\n",
        "    j+=1\n",
        "  i+=1\n"
      ]
    }
  ]
}