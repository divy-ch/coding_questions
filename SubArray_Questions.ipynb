{
  "nbformat": 4,
  "nbformat_minor": 0,
  "metadata": {
    "colab": {
      "name": "SubArray Questions.ipynb",
      "provenance": [],
      "authorship_tag": "ABX9TyO1X6GaHLQMSE5Y75xF3Wl4",
      "include_colab_link": true
    },
    "kernelspec": {
      "name": "python3",
      "display_name": "Python 3"
    },
    "language_info": {
      "name": "python"
    }
  },
  "cells": [
    {
      "cell_type": "markdown",
      "metadata": {
        "id": "view-in-github",
        "colab_type": "text"
      },
      "source": [
        "<a href=\"https://colab.research.google.com/github/divy-ch/coding_questions/blob/main/SubArray_Questions.ipynb\" target=\"_parent\"><img src=\"https://colab.research.google.com/assets/colab-badge.svg\" alt=\"Open In Colab\"/></a>"
      ]
    },
    {
      "cell_type": "markdown",
      "source": [
        "write the code to print all the subarrays possible. Note - print in the similar way as given here.\n",
        "\n",
        "Input:-\n",
        "\n",
        "[1,2,3,4,5]\n",
        "\n",
        "Output:-\n",
        "\n",
        "1\n",
        "\n",
        "12\n",
        "\n",
        "123\n",
        "\n",
        "1234\n",
        "\n",
        "12345\n",
        "\n",
        "2\n",
        "\n",
        "23\n",
        "\n",
        "234\n",
        "\n",
        "2345\n",
        "\n",
        "3\n",
        "\n",
        "34\n",
        "\n",
        "345\n",
        "\n",
        "4\n",
        "\n",
        "45\n",
        "\n",
        "5"
      ],
      "metadata": {
        "id": "9txMtrAjbh7s"
      }
    },
    {
      "cell_type": "code",
      "execution_count": 5,
      "metadata": {
        "colab": {
          "base_uri": "https://localhost:8080/"
        },
        "id": "QXXZKXVJarnA",
        "outputId": "921ad0fc-0eeb-40a0-83a8-2afa63368e08"
      },
      "outputs": [
        {
          "output_type": "stream",
          "name": "stdout",
          "text": [
            "-2\n",
            "-2-3\n",
            "-2-34\n",
            "-2-34-1\n",
            "-2-34-1-2\n",
            "-2-34-1-21\n",
            "-2-34-1-215\n",
            "-2-34-1-215-3\n",
            "-3\n",
            "-34\n",
            "-34-1\n",
            "-34-1-2\n",
            "-34-1-21\n",
            "-34-1-215\n",
            "-34-1-215-3\n",
            "4\n",
            "4-1\n",
            "4-1-2\n",
            "4-1-21\n",
            "4-1-215\n",
            "4-1-215-3\n",
            "-1\n",
            "-1-2\n",
            "-1-21\n",
            "-1-215\n",
            "-1-215-3\n",
            "-2\n",
            "-21\n",
            "-215\n",
            "-215-3\n",
            "1\n",
            "15\n",
            "15-3\n",
            "5\n",
            "5-3\n",
            "-3\n"
          ]
        }
      ],
      "source": [
        "a = [-2,-3,4,-1,-2,1,5,-3]\n",
        "i=0\n",
        "while i<len(a):\n",
        "  j=i\n",
        "  while j<len(a):\n",
        "    k=i\n",
        "    while k<=j:\n",
        "      print(a[k],end=\"\")\n",
        "      k+=1\n",
        "    print()\n",
        "    j+=1\n",
        "  i+=1\n"
      ]
    },
    {
      "cell_type": "markdown",
      "source": [
        "Given an array find the maximum sum subarray. Return the maximum sum of the subarray.\n",
        "\n",
        "Input:-\n",
        "\n",
        "[5,2,-4,-5, 3,-1,2,3,1]\n",
        "\n",
        "Output:-\n",
        "\n",
        "8\n",
        "\n",
        "Reason :- 3,-1,2,3,1 is the maximum subarray possible."
      ],
      "metadata": {
        "id": "_9X4sIvCbSNR"
      }
    },
    {
      "cell_type": "code",
      "source": [
        "def max_subarray_sum(arr,n):\n",
        "  ans = -1000000000000000000000000000000\n",
        "  for sub_arr_size in range(1,n+1):\n",
        "    for start_index in range(0,n):\n",
        "      if (start_index+sub_arr_size)>n:\n",
        "        break\n",
        "      sum = 0\n",
        "      for i in range(start_index,(start_index+sub_arr_size)):\n",
        "        sum = sum + arr[i]\n",
        "      ans = max(ans,sum)\n",
        "  return ans\n",
        "\n",
        "a = [-2,-3,4,-1,-2,1,5,-3]\n",
        "max_subarray_sum(a,len(a))\n"
      ],
      "metadata": {
        "colab": {
          "base_uri": "https://localhost:8080/"
        },
        "id": "y39QOQCabcH6",
        "outputId": "21f3f8e6-1eab-4859-e654-6db5ab06a91c"
      },
      "execution_count": 2,
      "outputs": [
        {
          "output_type": "execute_result",
          "data": {
            "text/plain": [
              "7"
            ]
          },
          "metadata": {},
          "execution_count": 2
        }
      ]
    },
    {
      "cell_type": "code",
      "source": [
        ""
      ],
      "metadata": {
        "id": "CQYounL6ZOXa"
      },
      "execution_count": null,
      "outputs": []
    }
  ]
}