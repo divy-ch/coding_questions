{
  "nbformat": 4,
  "nbformat_minor": 0,
  "metadata": {
    "colab": {
      "name": "runningSum.ipynb",
      "provenance": [],
      "authorship_tag": "ABX9TyNc6wFrGxY9Yooe+XzOsLUV",
      "include_colab_link": true
    },
    "kernelspec": {
      "name": "python3",
      "display_name": "Python 3"
    },
    "language_info": {
      "name": "python"
    }
  },
  "cells": [
    {
      "cell_type": "markdown",
      "metadata": {
        "id": "view-in-github",
        "colab_type": "text"
      },
      "source": [
        "<a href=\"https://colab.research.google.com/github/divy-ch/coding_questions/blob/main/runningSum.ipynb\" target=\"_parent\"><img src=\"https://colab.research.google.com/assets/colab-badge.svg\" alt=\"Open In Colab\"/></a>"
      ]
    },
    {
      "cell_type": "markdown",
      "source": [
        "[Question](https://leetcode.com/problems/running-sum-of-1d-array/)"
      ],
      "metadata": {
        "id": "2fsoRt5StbUJ"
      }
    },
    {
      "cell_type": "code",
      "source": [
        "a = [1,2,3,4,5]\n",
        "m=[]\n",
        "sum=0\n",
        "for k in range(len(a)):\n",
        "  sum =  sum + a[k]\n",
        "  m.append(sum)\n",
        "print(m)"
      ],
      "metadata": {
        "colab": {
          "base_uri": "https://localhost:8080/"
        },
        "id": "GZCGnFven3CH",
        "outputId": "deda658a-1cac-4fb6-f124-70a0df6ec7ec"
      },
      "execution_count": 27,
      "outputs": [
        {
          "output_type": "stream",
          "name": "stdout",
          "text": [
            "[1, 3, 6, 10, 15]\n"
          ]
        }
      ]
    },
    {
      "cell_type": "code",
      "source": [
        ""
      ],
      "metadata": {
        "id": "3zh_jMzktwE4"
      },
      "execution_count": null,
      "outputs": []
    }
  ]
}