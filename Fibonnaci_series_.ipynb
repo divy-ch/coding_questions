{
  "nbformat": 4,
  "nbformat_minor": 0,
  "metadata": {
    "colab": {
      "name": "Fibonnaci series .ipynb",
      "provenance": [],
      "authorship_tag": "ABX9TyMLVJOVYXdQRcqXqkXwswxR",
      "include_colab_link": true
    },
    "kernelspec": {
      "name": "python3",
      "display_name": "Python 3"
    },
    "language_info": {
      "name": "python"
    }
  },
  "cells": [
    {
      "cell_type": "markdown",
      "metadata": {
        "id": "view-in-github",
        "colab_type": "text"
      },
      "source": [
        "<a href=\"https://colab.research.google.com/github/divy-ch/coding_questions/blob/main/Fibonnaci_series_.ipynb\" target=\"_parent\"><img src=\"https://colab.research.google.com/assets/colab-badge.svg\" alt=\"Open In Colab\"/></a>"
      ]
    },
    {
      "cell_type": "code",
      "source": [
        "def fibo_series(n):\n",
        "  n1=0\n",
        "  n2=1\n",
        "  sum=0\n",
        "  fibo=[]\n",
        "  i=1\n",
        "  # print(n1,end=\" \")\n",
        "  # print(n2,end=\" \")\n",
        "  while i<=n:\n",
        "    print(sum,end=\" \")\n",
        "    n1=n2\n",
        "    n2 = sum\n",
        "    sum = n1+n2\n",
        "    fibo.append(sum)\n",
        "    i+=1\n",
        "  \n",
        "\n",
        "fibo_series(10)"
      ],
      "metadata": {
        "colab": {
          "base_uri": "https://localhost:8080/"
        },
        "id": "Q8rO3Tbdfm7M",
        "outputId": "336eab8d-5a0e-4f99-c0d7-bb4e4b50ec6d"
      },
      "execution_count": 9,
      "outputs": [
        {
          "output_type": "stream",
          "name": "stdout",
          "text": [
            "0 1 1 2 3 5 8 13 21 34 "
          ]
        }
      ]
    },
    {
      "cell_type": "code",
      "execution_count": null,
      "metadata": {
        "id": "IAasT0rqd7ZA"
      },
      "outputs": [],
      "source": [
        ""
      ]
    },
    {
      "cell_type": "code",
      "source": [
        ""
      ],
      "metadata": {
        "id": "ln197-lieywQ"
      },
      "execution_count": null,
      "outputs": []
    }
  ]
}