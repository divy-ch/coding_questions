{
  "nbformat": 4,
  "nbformat_minor": 0,
  "metadata": {
    "colab": {
      "name": "Binary Search code with first and last occurance .ipynb",
      "provenance": [],
      "collapsed_sections": [],
      "authorship_tag": "ABX9TyPfWp9+qTtIpw+jH5BuT7ew",
      "include_colab_link": true
    },
    "kernelspec": {
      "name": "python3",
      "display_name": "Python 3"
    },
    "language_info": {
      "name": "python"
    }
  },
  "cells": [
    {
      "cell_type": "markdown",
      "metadata": {
        "id": "view-in-github",
        "colab_type": "text"
      },
      "source": [
        "<a href=\"https://colab.research.google.com/github/divy-ch/coding_questions/blob/main/Binary_Search_code_with_first_and_last_occurance_.ipynb\" target=\"_parent\"><img src=\"https://colab.research.google.com/assets/colab-badge.svg\" alt=\"Open In Colab\"/></a>"
      ]
    },
    {
      "cell_type": "markdown",
      "source": [
        ""
      ],
      "metadata": {
        "id": "5v4-Sbog25jL"
      }
    },
    {
      "cell_type": "code",
      "source": [
        "\n",
        "# li1 = [1, 2, 2, 3, 3, 3, 4, 8, 9, 19, 19, 19]         #uncomment for first & last occurance\n",
        "li2 = [1,2,3,4,5,6,7,8,9,10,20,33,56,89,99,990,1100,1200,1400,2000,2300,2500]      #comment out for first & last occurance\n",
        "\n",
        "def binarySearch(arr, n, x):\n",
        "  left_index = 0\n",
        "  right_index = n-1\n",
        "  result=-1\n",
        "  while left_index<=right_index:\n",
        "    mid_index = (left_index+right_index)//2\n",
        "    mid_number = arr[mid_index]\n",
        "    if mid_number == x:\n",
        "      result = mid_index\n",
        "      break                              #comment for first and last occurance\n",
        "      # left_index = mid_index+1         #uncomment for last occurance\n",
        "      # right_index = mid_index-1        #uncomment for first occurance\n",
        "    elif mid_number<x:\n",
        "      left_index = mid_index+1\n",
        "    else:\n",
        "      right_index = mid_index-1\n",
        "  return result\n",
        "\n",
        "\n",
        "\n",
        "binarySearch(li1, len(li1), 19)\n",
        "\n"
      ],
      "metadata": {
        "colab": {
          "base_uri": "https://localhost:8080/"
        },
        "id": "9gIDKwa8C8vw",
        "outputId": "bedda31a-c87d-4321-8403-5407f63d2aec"
      },
      "execution_count": 32,
      "outputs": [
        {
          "output_type": "execute_result",
          "data": {
            "text/plain": [
              "9"
            ]
          },
          "metadata": {},
          "execution_count": 32
        }
      ]
    },
    {
      "cell_type": "code",
      "source": [
        ""
      ],
      "metadata": {
        "id": "5T5mRSyh3iWz"
      },
      "execution_count": null,
      "outputs": []
    }
  ]
}