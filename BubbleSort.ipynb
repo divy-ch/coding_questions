{
  "nbformat": 4,
  "nbformat_minor": 0,
  "metadata": {
    "colab": {
      "name": "BubbleSort.ipynb",
      "provenance": [],
      "authorship_tag": "ABX9TyNNFU+0lwb4ZD+O1NtPuXBc",
      "include_colab_link": true
    },
    "kernelspec": {
      "name": "python3",
      "display_name": "Python 3"
    },
    "language_info": {
      "name": "python"
    }
  },
  "cells": [
    {
      "cell_type": "markdown",
      "metadata": {
        "id": "view-in-github",
        "colab_type": "text"
      },
      "source": [
        "<a href=\"https://colab.research.google.com/github/divy-ch/coding_questions/blob/main/BubbleSort.ipynb\" target=\"_parent\"><img src=\"https://colab.research.google.com/assets/colab-badge.svg\" alt=\"Open In Colab\"/></a>"
      ]
    },
    {
      "cell_type": "code",
      "execution_count": 8,
      "metadata": {
        "colab": {
          "base_uri": "https://localhost:8080/"
        },
        "id": "WLQr0o-EjuKx",
        "outputId": "53e31cb1-70da-4e1c-c547-49f62d4c9820"
      },
      "outputs": [
        {
          "output_type": "stream",
          "name": "stdout",
          "text": [
            "[1, 2, 3, 4, 5, 8, 10, 20, 21, 23, 46, 55, 78, 85, 99, 100, 1000]\n"
          ]
        }
      ],
      "source": [
        "def bubbleSort(arr,n):\n",
        "  for j in range(n):\n",
        "    for i in range(n-1):\n",
        "      if arr[i]>arr[i+1]:\n",
        "        arr[i],arr[i+1] = arr[i+1],arr[i]\n",
        "  return arr\n",
        "\n",
        "\n",
        "\n",
        "\n",
        "\n",
        "arr = [10,20,1,2,3,5,8,99,100,85,46,55,21,23,4,78,1000]\n",
        "sorted_arr = bubbleSort(arr,len(arr))\n",
        "print(sorted_arr)"
      ]
    },
    {
      "cell_type": "code",
      "source": [
        ""
      ],
      "metadata": {
        "id": "x9dwVKunoOBQ"
      },
      "execution_count": null,
      "outputs": []
    }
  ]
}