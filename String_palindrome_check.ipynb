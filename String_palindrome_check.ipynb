{
  "nbformat": 4,
  "nbformat_minor": 0,
  "metadata": {
    "colab": {
      "name": "String palindrome check.ipynb",
      "provenance": [],
      "authorship_tag": "ABX9TyM71lgafeFRT6/jJmDgvy2C",
      "include_colab_link": true
    },
    "kernelspec": {
      "name": "python3",
      "display_name": "Python 3"
    },
    "language_info": {
      "name": "python"
    }
  },
  "cells": [
    {
      "cell_type": "markdown",
      "metadata": {
        "id": "view-in-github",
        "colab_type": "text"
      },
      "source": [
        "<a href=\"https://colab.research.google.com/github/divy-ch/coding_questions/blob/main/String_palindrome_check.ipynb\" target=\"_parent\"><img src=\"https://colab.research.google.com/assets/colab-badge.svg\" alt=\"Open In Colab\"/></a>"
      ]
    },
    {
      "cell_type": "code",
      "source": [
        "def isStringPalindrome(string_):\n",
        "  if string_ == string_[::-1]:\n",
        "    result = True\n",
        "  else:\n",
        "    result = False\n",
        "  return result\n",
        "\n",
        "\n",
        "isStringPalindrome('abcdcba')\n",
        "isStringPalindrome('malayalam')"
      ],
      "metadata": {
        "colab": {
          "base_uri": "https://localhost:8080/"
        },
        "id": "7igIx4FA0EfY",
        "outputId": "0222ff1e-d8cc-43b0-8a2b-d0467b8e7293"
      },
      "execution_count": 22,
      "outputs": [
        {
          "output_type": "execute_result",
          "data": {
            "text/plain": [
              "True"
            ]
          },
          "metadata": {},
          "execution_count": 22
        }
      ]
    },
    {
      "cell_type": "code",
      "source": [
        ""
      ],
      "metadata": {
        "id": "-0wiSIcP0jW3"
      },
      "execution_count": null,
      "outputs": []
    }
  ]
}