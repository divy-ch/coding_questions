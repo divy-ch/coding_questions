{
  "nbformat": 4,
  "nbformat_minor": 0,
  "metadata": {
    "colab": {
      "name": "insertionSort.ipynb",
      "provenance": [],
      "authorship_tag": "ABX9TyN0euAzP4h8dEvBZ6/9rdxX",
      "include_colab_link": true
    },
    "kernelspec": {
      "name": "python3",
      "display_name": "Python 3"
    },
    "language_info": {
      "name": "python"
    }
  },
  "cells": [
    {
      "cell_type": "markdown",
      "metadata": {
        "id": "view-in-github",
        "colab_type": "text"
      },
      "source": [
        "<a href=\"https://colab.research.google.com/github/divy-ch/coding_questions/blob/main/insertionSort.ipynb\" target=\"_parent\"><img src=\"https://colab.research.google.com/assets/colab-badge.svg\" alt=\"Open In Colab\"/></a>"
      ]
    },
    {
      "cell_type": "code",
      "execution_count": null,
      "metadata": {
        "id": "hXU22AeC5vSm"
      },
      "outputs": [],
      "source": [
        "def insertion_sort(elements):\n",
        "    for i in range(1, len(elements)):\n",
        "      print('i : ',i)\n",
        "      anchor = elements[i]\n",
        "      print('anchor: ',anchor)\n",
        "      j = i - 1\n",
        "      print('j: ',j)\n",
        "      while j>=0 and anchor < elements[j]:\n",
        "          elements[j+1] = elements[j]\n",
        "          j = j - 1\n",
        "      elements[j+1] = anchor\n",
        "      print(anchor)\n",
        "    return elements\n",
        "arr = [100,200,3,5,46,56,89,75,456,13,548,55,6666,10000000]\n",
        "arr = insertion_sort(arr)\n",
        "print(arr)"
      ]
    },
    {
      "cell_type": "code",
      "source": [
        ""
      ],
      "metadata": {
        "id": "qFFEaHatEJn4"
      },
      "execution_count": null,
      "outputs": []
    }
  ]
}