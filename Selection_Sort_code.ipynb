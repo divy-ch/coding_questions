{
  "cells": [
    {
      "cell_type": "markdown",
      "metadata": {
        "id": "view-in-github",
        "colab_type": "text"
      },
      "source": [
        "<a href=\"https://colab.research.google.com/github/divy-ch/coding_questions/blob/main/Selection_Sort_code.ipynb\" target=\"_parent\"><img src=\"https://colab.research.google.com/assets/colab-badge.svg\" alt=\"Open In Colab\"/></a>"
      ]
    },
    {
      "cell_type": "markdown",
      "source": [
        "Function for selection sort"
      ],
      "metadata": {
        "id": "4owy5o3PhwgZ"
      }
    },
    {
      "cell_type": "code",
      "source": [
        "def selectionSort(arr, n) :\n",
        "  for i in range(n):\n",
        "    min_index = i\n",
        "    for j in range(min_index+1,n):\n",
        "      if arr[j] < arr[min_index]:\n",
        "        min_index = j\n",
        "    if i != min_index:\n",
        "      arr[i],arr[min_index] = arr[min_index],arr[i]\n",
        "  return arr\n",
        "\n",
        "\n",
        "arr = [8888,15,201,34,54,34,23,66,77,88,33,55,99,100]\n",
        "sorted_arr = selectionSort(arr,len(arr))\n",
        "print(sorted_arr)"
      ],
      "metadata": {
        "id": "4meEwDVWW5Gd",
        "outputId": "f3729463-0bc0-4b06-aa8b-9ee92f7c60b5",
        "colab": {
          "base_uri": "https://localhost:8080/"
        }
      },
      "execution_count": null,
      "outputs": [
        {
          "output_type": "stream",
          "name": "stdout",
          "text": [
            "[15, 23, 33, 34, 34, 54, 55, 66, 77, 88, 99, 100, 201, 8888]\n"
          ]
        }
      ]
    },
    {
      "cell_type": "markdown",
      "source": [
        "Function to find minimum"
      ],
      "metadata": {
        "id": "trTUCHKeh0hE"
      }
    },
    {
      "cell_type": "code",
      "source": [
        "def find_min(arr):\n",
        "  min = 10000000000\n",
        "  for i in range(len(arr)):\n",
        "    if arr[i] < min:\n",
        "      min = arr[i]\n",
        "  return min\n",
        "\n",
        "arr = [8888,15,201,34,54,34,23,66,77,88,33,55,99,100]\n",
        "minnum = find_min(arr)\n",
        "print(minnum)"
      ],
      "metadata": {
        "id": "b9MhXP4OW5Cw",
        "outputId": "7a1aadc2-9597-4af2-e889-91d851a3151d",
        "colab": {
          "base_uri": "https://localhost:8080/"
        }
      },
      "execution_count": null,
      "outputs": [
        {
          "output_type": "stream",
          "name": "stdout",
          "text": [
            "15\n"
          ]
        }
      ]
    },
    {
      "cell_type": "code",
      "source": [
        ""
      ],
      "metadata": {
        "id": "zL6RzQyjW5BO"
      },
      "execution_count": null,
      "outputs": []
    },
    {
      "cell_type": "code",
      "source": [
        ""
      ],
      "metadata": {
        "id": "QadZgrc1W49m"
      },
      "execution_count": null,
      "outputs": []
    },
    {
      "cell_type": "code",
      "source": [
        ""
      ],
      "metadata": {
        "id": "FqxvNXgfW48S"
      },
      "execution_count": null,
      "outputs": []
    },
    {
      "cell_type": "code",
      "source": [
        ""
      ],
      "metadata": {
        "id": "OhFuNEPsW434"
      },
      "execution_count": null,
      "outputs": []
    },
    {
      "cell_type": "code",
      "source": [
        ""
      ],
      "metadata": {
        "id": "D2KGSFaoW42i"
      },
      "execution_count": null,
      "outputs": []
    },
    {
      "cell_type": "code",
      "source": [
        ""
      ],
      "metadata": {
        "id": "A6nH65RKW4yd"
      },
      "execution_count": null,
      "outputs": []
    },
    {
      "cell_type": "code",
      "source": [
        ""
      ],
      "metadata": {
        "id": "8kZztktWW4xO"
      },
      "execution_count": null,
      "outputs": []
    },
    {
      "cell_type": "code",
      "source": [
        ""
      ],
      "metadata": {
        "id": "GBzVdYchW4sp"
      },
      "execution_count": null,
      "outputs": []
    },
    {
      "cell_type": "code",
      "source": [
        ""
      ],
      "metadata": {
        "id": "wds6cb4GW4rZ"
      },
      "execution_count": null,
      "outputs": []
    },
    {
      "cell_type": "code",
      "source": [
        ""
      ],
      "metadata": {
        "id": "aLWDDyIHW4m9"
      },
      "execution_count": null,
      "outputs": []
    },
    {
      "cell_type": "code",
      "source": [
        ""
      ],
      "metadata": {
        "id": "VM8U-dnjW4lL"
      },
      "execution_count": null,
      "outputs": []
    }
  ],
  "metadata": {
    "colab": {
      "collapsed_sections": [],
      "name": "Selection Sort code",
      "provenance": [],
      "include_colab_link": true
    },
    "kernelspec": {
      "display_name": "Python 3",
      "name": "python3"
    }
  },
  "nbformat": 4,
  "nbformat_minor": 0
}