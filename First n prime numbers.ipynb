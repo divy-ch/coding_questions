{
  "cells": [
    {
      "cell_type": "markdown",
      "metadata": {
        "id": "view-in-github",
        "colab_type": "text"
      },
      "source": [
        "<a href=\"https://colab.research.google.com/github/divy-ch/coding_questions/blob/main/First%20n%20prime%20numbers.ipynb\" target=\"_parent\"><img src=\"https://colab.research.google.com/assets/colab-badge.svg\" alt=\"Open In Colab\"/></a>"
      ]
    },
    {
      "cell_type": "markdown",
      "source": [
        "Code to print first n Prime numbers"
      ],
      "metadata": {
        "id": "y23A5wSuOogB"
      }
    },
    {
      "cell_type": "code",
      "source": [
        "def prime_numbers(n):\n",
        "    \"\"\" Function to store first n prime_numbers in a list\n",
        "    Return the list containing the prime numbers \"\"\"\n",
        "    def isPrime(num):\n",
        "      for i in range(2,num):\n",
        "        if num%i==0:\n",
        "          return False\n",
        "\n",
        "      return True\n",
        "\n",
        "\n",
        "    n = 1000\n",
        "    prime = []\n",
        "    for num in range(1,n+1):\n",
        "      if num == 1:\n",
        "        pass\n",
        "      elif(isPrime(num)):\n",
        "        prime.append(num)\n",
        "    return prime\n",
        "    \n",
        "   \n",
        "    \n",
        "    \n",
        "    \n",
        "    \n",
        "    \n",
        "    \n",
        "    \n",
        "    \n",
        "    \"\"\"Dont change anything below. If changed click on reset.\"\"\"\n",
        "def main():\n",
        "    n=int(input())\n",
        "    output = prime_numbers(n)\n",
        "    for i in range(0,n):\n",
        "        print(output[i])\n",
        "    \n",
        "main()\n"
      ],
      "metadata": {
        "id": "8jGpir5FHpMI",
        "outputId": "4cf1f188-bfd2-4c39-fdfd-60869c994492",
        "colab": {
          "base_uri": "https://localhost:8080/"
        }
      },
      "execution_count": 45,
      "outputs": [
        {
          "output_type": "stream",
          "name": "stdout",
          "text": [
            "5\n",
            "2\n",
            "3\n",
            "5\n",
            "7\n",
            "11\n"
          ]
        }
      ]
    },
    {
      "cell_type": "code",
      "source": [
        ""
      ],
      "metadata": {
        "id": "OaK6t5AA5IZL"
      },
      "execution_count": null,
      "outputs": []
    },
    {
      "cell_type": "code",
      "source": [
        ""
      ],
      "metadata": {
        "id": "sxHVjGL_5IVX"
      },
      "execution_count": null,
      "outputs": []
    },
    {
      "cell_type": "code",
      "source": [
        ""
      ],
      "metadata": {
        "id": "vJPHp4u85IT9"
      },
      "execution_count": null,
      "outputs": []
    },
    {
      "cell_type": "code",
      "source": [
        ""
      ],
      "metadata": {
        "id": "A5UUgTkv5IQd"
      },
      "execution_count": null,
      "outputs": []
    },
    {
      "cell_type": "code",
      "source": [
        ""
      ],
      "metadata": {
        "id": "Wol1SohoLjWF"
      },
      "execution_count": null,
      "outputs": []
    }
  ],
  "metadata": {
    "colab": {
      "collapsed_sections": [],
      "name": "Welcome To Colaboratory",
      "provenance": [],
      "include_colab_link": true
    },
    "kernelspec": {
      "display_name": "Python 3",
      "name": "python3"
    }
  },
  "nbformat": 4,
  "nbformat_minor": 0
}